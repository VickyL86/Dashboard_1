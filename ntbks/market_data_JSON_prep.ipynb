{
 "cells": [
  {
   "cell_type": "code",
   "execution_count": 1,
   "metadata": {},
   "outputs": [],
   "source": [
    "import json\n",
    "import csv"
   ]
  },
  {
   "cell_type": "code",
   "execution_count": 2,
   "metadata": {},
   "outputs": [
    {
     "ename": "KeyError",
     "evalue": "'Ways_to_bet'",
     "output_type": "error",
     "traceback": [
      "\u001b[1;31m---------------------------------------------------------------------------\u001b[0m",
      "\u001b[1;31mKeyError\u001b[0m                                  Traceback (most recent call last)",
      "Cell \u001b[1;32mIn[2], line 6\u001b[0m\n\u001b[0;32m      4\u001b[0m     csvreader \u001b[39m=\u001b[39m csv\u001b[39m.\u001b[39mDictReader(csvfile)\n\u001b[0;32m      5\u001b[0m     \u001b[39mfor\u001b[39;00m row \u001b[39min\u001b[39;00m csvreader:\n\u001b[1;32m----> 6\u001b[0m         csv_data[row[\u001b[39m\"\u001b[39m\u001b[39mstate\u001b[39m\u001b[39m\"\u001b[39m]] \u001b[39m=\u001b[39m row[\u001b[39m\"\u001b[39;49m\u001b[39mWays_to_bet\u001b[39;49m\u001b[39m\"\u001b[39;49m]\n\u001b[0;32m      8\u001b[0m \u001b[39m#show the dictionary\u001b[39;00m\n\u001b[0;32m     10\u001b[0m csv_data\n",
      "\u001b[1;31mKeyError\u001b[0m: 'Ways_to_bet'"
     ]
    }
   ],
   "source": [
    "# Read CSV and store data in a dictionary\n",
    "csv_data = {}\n",
    "with open(\"../Resources/all_state_market_data_FINALSET.csv\", \"r\") as csvfile:\n",
    "    csvreader = csv.DictReader(csvfile)\n",
    "    for row in csvreader:\n",
    "        \n",
    "\n",
    "#show the dictionary\n",
    "\n",
    "csv_data\n"
   ]
  }
 ],
 "metadata": {
  "kernelspec": {
   "display_name": "base",
   "language": "python",
   "name": "python3"
  },
  "language_info": {
   "codemirror_mode": {
    "name": "ipython",
    "version": 3
   },
   "file_extension": ".py",
   "mimetype": "text/x-python",
   "name": "python",
   "nbconvert_exporter": "python",
   "pygments_lexer": "ipython3",
   "version": "3.10.9"
  },
  "orig_nbformat": 4
 },
 "nbformat": 4,
 "nbformat_minor": 2
}
